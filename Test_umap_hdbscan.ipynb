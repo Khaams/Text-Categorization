{
 "cells": [
  {
   "cell_type": "code",
   "execution_count": 1,
   "id": "3031c228-6173-474b-b367-38beaf81ee8e",
   "metadata": {},
   "outputs": [
    {
     "name": "stderr",
     "output_type": "stream",
     "text": [
      "2022-08-08 12:29:26.608104: W tensorflow/stream_executor/platform/default/dso_loader.cc:64] Could not load dynamic library 'libcudart.so.11.0'; dlerror: libcudart.so.11.0: cannot open shared object file: No such file or directory\n",
      "2022-08-08 12:29:26.608142: I tensorflow/stream_executor/cuda/cudart_stub.cc:29] Ignore above cudart dlerror if you do not have a GPU set up on your machine.\n"
     ]
    }
   ],
   "source": [
    "from sentence_transformers import SentenceTransformer\n",
    "\n",
    "model_use = SentenceTransformer(\"distiluse-base-multilingual-cased\")\n",
    "\n",
    "def embed(sentences):\n",
    "    \"\"\"\n",
    "    wrapper function for generating message embeddings\n",
    "    \"\"\"\n",
    "    embeddings = model_use.encode(sentences)\n",
    "    return embeddings"
   ]
  },
  {
   "cell_type": "code",
   "execution_count": 2,
   "id": "0b6cec0f-ffa1-4cf3-9a69-4bb67d259827",
   "metadata": {},
   "outputs": [],
   "source": [
    "import umap\n",
    "\n",
    "def generate_clusters(\n",
    "    message_embeddings,\n",
    "    n_neighbors,\n",
    "    n_components,\n",
    "    min_cluster_size,\n",
    "    random_state=None,\n",
    "    metric=\"cosine\",\n",
    "    cluster_selection_method=\"eom\",\n",
    "):\n",
    "    \"\"\"\n",
    "    Generate HDBSCAN cluster object after reducing embedding dimensionality with UMAP\n",
    "\n",
    "    Parameters\n",
    "    ----------\n",
    "    n_neighbors  : int , number of nearest neighbors in UMAP\n",
    "    n_components : int, number of component in low dimension in UMAP\n",
    "    min_cluster_size : int, min cluster size for HDBSCAN\n",
    "    random_state : int, RandomState instance or None, optional (default: None);\n",
    "        If int, random_state is the seed used by the random number generator;\n",
    "        If RandomState instance, random_state is the random number generator;\n",
    "        If None, the random number generator is the RandomState instance used by np.random.ù\n",
    "    metric : str, name of the metric to use in HDBSCAN\n",
    "    cluster_selection_method : 'eom' (Excess of mass) or 'leaf', for hdbscan\n",
    "\n",
    "    Return\n",
    "    ---------\n",
    "    clusters : List[files, ..]\n",
    "    clusters.relative_validity_ : DBCV score\n",
    "    \"\"\"\n",
    "\n",
    "    umap_embeddings = umap.UMAP(\n",
    "        n_neighbors=n_neighbors,\n",
    "        n_components=n_components,\n",
    "        metric=metric,\n",
    "        random_state=random_state,\n",
    "        min_dist=0.03,\n",
    "    ).fit_transform(message_embeddings)\n",
    "\n",
    "    clusters = hdbscan.HDBSCAN(\n",
    "        min_cluster_size=min_cluster_size,\n",
    "        metric=\"euclidean\",\n",
    "        gen_min_span_tree=True,\n",
    "        cluster_selection_method=cluster_selection_method,\n",
    "    ).fit(umap_embeddings)\n",
    "    \n",
    "    dbcv = clusters.relative_validity_\n",
    "    return clusters, umap_embeddings, dbcv  # sensé être une approximation de DBCV"
   ]
  },
  {
   "cell_type": "code",
   "execution_count": 3,
   "id": "dcdbc895-cabf-4f91-8520-1e0abdc8d3f3",
   "metadata": {},
   "outputs": [
    {
     "data": {
      "text/html": [
       "<div>\n",
       "<style scoped>\n",
       "    .dataframe tbody tr th:only-of-type {\n",
       "        vertical-align: middle;\n",
       "    }\n",
       "\n",
       "    .dataframe tbody tr th {\n",
       "        vertical-align: top;\n",
       "    }\n",
       "\n",
       "    .dataframe thead th {\n",
       "        text-align: right;\n",
       "    }\n",
       "</style>\n",
       "<table border=\"1\" class=\"dataframe\">\n",
       "  <thead>\n",
       "    <tr style=\"text-align: right;\">\n",
       "      <th></th>\n",
       "      <th>full_text</th>\n",
       "      <th>java</th>\n",
       "      <th>python</th>\n",
       "      <th>javascript</th>\n",
       "      <th>ios</th>\n",
       "      <th>android</th>\n",
       "    </tr>\n",
       "  </thead>\n",
       "  <tbody>\n",
       "    <tr>\n",
       "      <th>0</th>\n",
       "      <td>What is the advantage of storing schema in avr...</td>\n",
       "      <td>1</td>\n",
       "      <td>0</td>\n",
       "      <td>0</td>\n",
       "      <td>0</td>\n",
       "      <td>0</td>\n",
       "    </tr>\n",
       "    <tr>\n",
       "      <th>1</th>\n",
       "      <td>How do you get JavaScript/jQuery Intellisense ...</td>\n",
       "      <td>0</td>\n",
       "      <td>0</td>\n",
       "      <td>1</td>\n",
       "      <td>0</td>\n",
       "      <td>0</td>\n",
       "    </tr>\n",
       "    <tr>\n",
       "      <th>2</th>\n",
       "      <td>Mocking Static Blocks in Java\\nMy motto for Ja...</td>\n",
       "      <td>1</td>\n",
       "      <td>0</td>\n",
       "      <td>0</td>\n",
       "      <td>0</td>\n",
       "      <td>0</td>\n",
       "    </tr>\n",
       "    <tr>\n",
       "      <th>3</th>\n",
       "      <td>Getting random row through SQLAlchemy\\nHow do ...</td>\n",
       "      <td>0</td>\n",
       "      <td>1</td>\n",
       "      <td>0</td>\n",
       "      <td>0</td>\n",
       "      <td>0</td>\n",
       "    </tr>\n",
       "    <tr>\n",
       "      <th>4</th>\n",
       "      <td>Python dictionary from an object's fields\\nDo ...</td>\n",
       "      <td>0</td>\n",
       "      <td>1</td>\n",
       "      <td>0</td>\n",
       "      <td>0</td>\n",
       "      <td>0</td>\n",
       "    </tr>\n",
       "  </tbody>\n",
       "</table>\n",
       "</div>"
      ],
      "text/plain": [
       "                                           full_text  java  python  \\\n",
       "0  What is the advantage of storing schema in avr...     1       0   \n",
       "1  How do you get JavaScript/jQuery Intellisense ...     0       0   \n",
       "2  Mocking Static Blocks in Java\\nMy motto for Ja...     1       0   \n",
       "3  Getting random row through SQLAlchemy\\nHow do ...     0       1   \n",
       "4  Python dictionary from an object's fields\\nDo ...     0       1   \n",
       "\n",
       "   javascript  ios  android  \n",
       "0           0    0        0  \n",
       "1           1    0        0  \n",
       "2           0    0        0  \n",
       "3           0    0        0  \n",
       "4           0    0        0  "
      ]
     },
     "execution_count": 3,
     "metadata": {},
     "output_type": "execute_result"
    }
   ],
   "source": [
    "import pandas as pd \n",
    "\n",
    "df = pd.read_csv(\"./data/cleaned_data.csv\")\n",
    "def get_top_n(dataframe, top_n):\n",
    "    \"\"\"\n",
    "    Get the top n of the created \n",
    "    \n",
    "    Parameters\n",
    "    -----------\n",
    "    dataframe : pandas.DataFrame\n",
    "        input dataframe\n",
    "    top_n : int,\n",
    "        number of desired category\n",
    "        \n",
    "    Return\n",
    "    -------\n",
    "        pandas.DataFrame with only the top_n of the desired categories\n",
    "    \"\"\"\n",
    "    categories = list(dataframe.columns.values)[1:]\n",
    "    df_stats = pd.DataFrame([(category, dataframe[category].sum()) for category in categories], columns=['category', 'number of queries'])\n",
    "    df_stats.sort_values(by=['number of queries'], ascending = False, inplace=True)\n",
    "    \n",
    "    top_ = df_stats['category'][:top_n].tolist()\n",
    "    df_top = dataframe[['full_text'] + top_]\n",
    "    # Remove raws without labels\n",
    "    df_top = df_top[(df_top[top_].T != 0).any()]\n",
    "    df_top = df_top.reset_index(drop=True)\n",
    "    return df_top, top_\n",
    "\n",
    "num_labels = 5\n",
    "df_, label_cols = get_top_n(df, num_labels)\n",
    "df_.head()"
   ]
  },
  {
   "cell_type": "code",
   "execution_count": 4,
   "id": "8ae5bb00-00f1-487d-8e58-41210caf17a5",
   "metadata": {},
   "outputs": [
    {
     "name": "stdout",
     "output_type": "stream",
     "text": [
      "<class 'pandas.core.frame.DataFrame'>\n",
      "RangeIndex: 12700 entries, 0 to 12699\n",
      "Data columns (total 6 columns):\n",
      " #   Column      Non-Null Count  Dtype \n",
      "---  ------      --------------  ----- \n",
      " 0   full_text   12700 non-null  object\n",
      " 1   java        12700 non-null  int64 \n",
      " 2   python      12700 non-null  int64 \n",
      " 3   javascript  12700 non-null  int64 \n",
      " 4   ios         12700 non-null  int64 \n",
      " 5   android     12700 non-null  int64 \n",
      "dtypes: int64(5), object(1)\n",
      "memory usage: 595.4+ KB\n"
     ]
    }
   ],
   "source": [
    "df_.info()"
   ]
  },
  {
   "cell_type": "code",
   "execution_count": 7,
   "id": "57219619-c5dd-4f15-8506-342cb0e685c6",
   "metadata": {},
   "outputs": [
    {
     "name": "stdout",
     "output_type": "stream",
     "text": [
      "Create embeddings : \n",
      "Clustering .. \n"
     ]
    }
   ],
   "source": [
    "from tqdm.notebook import tqdm\n",
    "import hdbscan\n",
    "\n",
    "print('Create embeddings : ')\n",
    "embeddings_questions = embed(df_.full_text.tolist()[:1000])\n",
    "#parameters_ = {'min_cluster_size': 3, 'n_components': 10, 'n_neighbors': 5, 'random_state': 42}\n",
    "\n",
    "print(\"Clustering .. \")\n",
    "clusters, umap_embeddings, dbcv = generate_clusters(\n",
    "    message_embeddings=embeddings_questions,\n",
    "    n_neighbors=5,\n",
    "    n_components=10,\n",
    "    min_cluster_size= 3,\n",
    "    random_state=42,\n",
    "    metric=\"cosine\",\n",
    "    cluster_selection_method=\"eom\")"
   ]
  },
  {
   "cell_type": "code",
   "execution_count": 10,
   "id": "4d6ee630-363a-4942-abea-212223ee969a",
   "metadata": {},
   "outputs": [
    {
     "data": {
      "text/plain": [
       "100"
      ]
     },
     "execution_count": 10,
     "metadata": {},
     "output_type": "execute_result"
    }
   ],
   "source": [
    "len(set(clusters.labels_))"
   ]
  },
  {
   "cell_type": "code",
   "execution_count": null,
   "id": "764c2264-1d90-434b-a551-74692e6a8382",
   "metadata": {},
   "outputs": [],
   "source": []
  }
 ],
 "metadata": {
  "environment": {
   "kernel": "openclassroom",
   "name": "common-cpu.m94",
   "type": "gcloud",
   "uri": "gcr.io/deeplearning-platform-release/base-cpu:m94"
  },
  "kernelspec": {
   "display_name": "OpenClassroom",
   "language": "python",
   "name": "openclassroom"
  },
  "language_info": {
   "codemirror_mode": {
    "name": "ipython",
    "version": 3
   },
   "file_extension": ".py",
   "mimetype": "text/x-python",
   "name": "python",
   "nbconvert_exporter": "python",
   "pygments_lexer": "ipython3",
   "version": "3.9.13"
  }
 },
 "nbformat": 4,
 "nbformat_minor": 5
}
